{
 "cells": [
  {
   "cell_type": "code",
   "execution_count": null,
   "metadata": {
    "collapsed": true
   },
   "outputs": [],
   "source": []
  },
  {
   "cell_type": "code",
   "execution_count": 1,
   "metadata": {},
   "outputs": [],
   "source": [
    "# -*- coding: utf-8 -*-\n",
    "import numpy as np\n",
    "import urllib.request, json, re\n",
    "import pprint as pp\n",
    "import tensorflow as tf\n",
    "import re\n",
    "\n",
    "from tensorflow.python.framework import ops\n",
    "import matplotlib.pyplot as plt\n",
    "import time\n",
    "import datetime\n",
    "\n",
    "\n",
    "import random\n",
    "np.random.seed(1)"
   ]
  },
  {
   "cell_type": "markdown",
   "metadata": {},
   "source": [
    "# Klassformat för lagring och serialisering\n",
    "    "
   ]
  },
  {
   "cell_type": "code",
   "execution_count": 25,
   "metadata": {
    "collapsed": true
   },
   "outputs": [],
   "source": [
    "class DocList:\n",
    "    data = []\n",
    "    def __init__(self):\n",
    "        self.name='MotionList'\n",
    "        self.data = []\n",
    "    def reprJSON(self):\n",
    "        return dict(name=self.name, data=self.data) \n",
    "    \n",
    "class Motion:\n",
    "    def __init__(self):\n",
    "        self.text=''\n",
    "        self.title=''\n",
    "        self.subtype=''\n",
    "        self.meta = {}\n",
    "    def reprJSON(self):\n",
    "        return dict(text=self.text, subtype=self.subtype, title=self.title, meta=self.meta) \n",
    "    \n",
    "class DocSerializer(json.JSONEncoder):\n",
    "    def default(self, obj):\n",
    "        if hasattr(obj,'reprJSON'):\n",
    "            return obj.reprJSON()\n",
    "        else:\n",
    "            return json.JSONEncoder.default(self, obj)\n",
    "\n"
   ]
  },
  {
   "cell_type": "markdown",
   "metadata": {},
   "source": [
    "## Import och skapande av datafil\n",
    "denna koden ska bara köras en gång vid inläsning av data från riksdagen"
   ]
  },
  {
   "cell_type": "code",
   "execution_count": 34,
   "metadata": {},
   "outputs": [
    {
     "name": "stdout",
     "output_type": "stream",
     "text": [
      "totalt antal dokument: 200\n"
     ]
    }
   ],
   "source": [
    "\n",
    "def import_web_data(datasize=3):\n",
    "\n",
    "    #http://data.riksdagen.se/dokumentlista/?doktyp=mot\n",
    "    #http://data.riksdagen.se/dokument/H502225.text (exempeldok.)\n",
    "    #\"http://data.riksdagen.se/anforandelista/?rm=&anftyp=Nej&d=&ts=&parti=s&iid=0218878014918&sz=\"+str(datasize)+\"&utformat=json\"\n",
    "    #http://data.riksdagen.se/anforandelista/?rm=&anftyp=&d=&ts=&parti=&iid=&sz=10&utformat=xml\n",
    "    motioner = DocList()\n",
    "    with urllib.request.urlopen(\"http://data.riksdagen.se/dokumentlista/?doktyp=mot&sz=\"+str(datasize)+\"&utformat=json\") as url:\n",
    "        rawdata = json.loads(url.read().decode())\n",
    "        motionslista = rawdata['dokumentlista']['dokument']\n",
    "        for meta in motionslista:\n",
    "            motion = Motion()\n",
    "            with urllib.request.urlopen('http:' + meta['dokument_url_text']) as text:\n",
    "                motion.text = re.sub('\\n','',text.read().decode())\n",
    "                #motion.meta = meta (save space appr 30%)\n",
    "                motion.title = meta['titel']\n",
    "                motion.subtype = meta['subtyp']\n",
    "            motioner.data.append(motion)\n",
    "\n",
    "     \n",
    "    toJson = json.dumps(motioner.reprJSON(), cls=DocSerializer,  sort_keys=True, indent=4)\n",
    "    with open('motioner.txt','w',encoding='utf-8') as f:\n",
    "        \n",
    "        f.write(toJson) #json.dumps(motions.reprJSON()))#json.dumps(motions, sort_keys=True, indent=4))\n",
    "        \n",
    "    return toJson, motioner\n",
    "\n",
    "#datasize är antal dokument vi behöver förmodligen ett hundratal iaf.\n",
    "#data_ex, motionList = import_web_data(datasize=500)\n",
    "print(\"totalt antal dokument: \" + str(len(motionList.data)))\n",
    "\n"
   ]
  },
  {
   "cell_type": "code",
   "execution_count": null,
   "metadata": {
    "collapsed": true
   },
   "outputs": [],
   "source": []
  },
  {
   "cell_type": "code",
   "execution_count": null,
   "metadata": {
    "collapsed": true
   },
   "outputs": [],
   "source": []
  }
 ],
 "metadata": {
  "kernelspec": {
   "display_name": "Python 3",
   "language": "python",
   "name": "python3"
  },
  "language_info": {
   "codemirror_mode": {
    "name": "ipython",
    "version": 3
   },
   "file_extension": ".py",
   "mimetype": "text/x-python",
   "name": "python",
   "nbconvert_exporter": "python",
   "pygments_lexer": "ipython3",
   "version": "3.6.1"
  }
 },
 "nbformat": 4,
 "nbformat_minor": 2
}
